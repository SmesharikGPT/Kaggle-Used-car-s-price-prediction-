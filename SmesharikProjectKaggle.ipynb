{
  "nbformat": 4,
  "nbformat_minor": 0,
  "metadata": {
    "colab": {
      "provenance": [],
      "toc_visible": true
    },
    "kernelspec": {
      "name": "python3",
      "display_name": "Python 3"
    },
    "language_info": {
      "name": "python"
    },
    "gpuClass": "standard"
  },
  "cells": [
    {
      "cell_type": "markdown",
      "source": [
        "#Введение"
      ],
      "metadata": {
        "id": "W7kbgNAulQiL"
      }
    },
    {
      "cell_type": "markdown",
      "source": [
        "В исходных данных содержится информация о продажах ~440000 автомобилей с аукционов, которые будут использоваться в качестве обучающих данных (train.csv) и ~110000 будут использоваться в качестве тестовых данных (test.csv).\n",
        "\n",
        "Задача - разработать модель для предсказания стоимости продажи автомобиля на вторичном рынке.\n",
        "\n",
        "В качестве метрики оценки качества моделей будет использоваться MAPE (Mean Absolute Percentage Error)\n",
        "\n",
        "![изображение.png](data:image/png;base64,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)\n",
        "\n",
        "Описание полей данных:\n",
        "\n",
        "'year' - год производства\n",
        "\n",
        "'make' - производитель\n",
        "\n",
        "'model' - модель\n",
        "\n",
        "'trim' - модификация\n",
        "\n",
        "'body' - тип кузова\n",
        "\n",
        "'transmission' - тип КПП\n",
        "\n",
        "'vin' - идентификатор (вин)\n",
        "\n",
        "'state' - штат регистрации\n",
        "\n",
        "'condition' - состояние по шкале (1-5)\n",
        "\n",
        "'odometer' - пробег в милях\n",
        "\n",
        "'color' - цвет кузова\n",
        "\n",
        "'interior' - цвет интерьера\n",
        "\n",
        "'seller' - продавец\n",
        "\n",
        "'sellingprice' - стоимость продажи\n",
        "\n",
        "'saledate' - дата продажи"
      ],
      "metadata": {
        "id": "yi3kcHmTlYCn"
      }
    },
    {
      "cell_type": "markdown",
      "source": [
        "#Блок инсталяции"
      ],
      "metadata": {
        "id": "KKqKDEtlm-yq"
      }
    },
    {
      "cell_type": "code",
      "source": [
        "#установка phik\n",
        "! pip install phik\n",
        "#установка кэтбуста\n",
        "! pip install catboost\n",
        "# установка optuna \n",
        "! pip install optuna"
      ],
      "metadata": {
        "id": "aCy4-2PDnD5h",
        "colab": {
          "base_uri": "https://localhost:8080/"
        },
        "outputId": "603349a2-41c1-4075-fc81-3665c936181a"
      },
      "execution_count": null,
      "outputs": [
        {
          "output_type": "stream",
          "name": "stdout",
          "text": [
            "Defaulting to user installation because normal site-packages is not writeable\n",
            "Requirement already satisfied: phik in c:\\users\\1\\appdata\\roaming\\python\\python310\\site-packages (0.12.3)\n",
            "Requirement already satisfied: scipy>=1.5.2 in d:\\anaconda\\lib\\site-packages (from phik) (1.10.0)\n",
            "Requirement already satisfied: joblib>=0.14.1 in d:\\anaconda\\lib\\site-packages (from phik) (1.1.1)\n",
            "Requirement already satisfied: numpy>=1.18.0 in d:\\anaconda\\lib\\site-packages (from phik) (1.23.5)\n",
            "Requirement already satisfied: matplotlib>=2.2.3 in d:\\anaconda\\lib\\site-packages (from phik) (3.7.0)\n",
            "Requirement already satisfied: pandas>=0.25.1 in d:\\anaconda\\lib\\site-packages (from phik) (1.5.3)\n",
            "Requirement already satisfied: cycler>=0.10 in d:\\anaconda\\lib\\site-packages (from matplotlib>=2.2.3->phik) (0.11.0)\n",
            "Requirement already satisfied: packaging>=20.0 in d:\\anaconda\\lib\\site-packages (from matplotlib>=2.2.3->phik) (22.0)\n",
            "Requirement already satisfied: fonttools>=4.22.0 in d:\\anaconda\\lib\\site-packages (from matplotlib>=2.2.3->phik) (4.25.0)\n",
            "Requirement already satisfied: pyparsing>=2.3.1 in d:\\anaconda\\lib\\site-packages (from matplotlib>=2.2.3->phik) (3.0.9)\n",
            "Requirement already satisfied: kiwisolver>=1.0.1 in d:\\anaconda\\lib\\site-packages (from matplotlib>=2.2.3->phik) (1.4.4)\n",
            "Requirement already satisfied: pillow>=6.2.0 in d:\\anaconda\\lib\\site-packages (from matplotlib>=2.2.3->phik) (9.4.0)\n",
            "Requirement already satisfied: python-dateutil>=2.7 in d:\\anaconda\\lib\\site-packages (from matplotlib>=2.2.3->phik) (2.8.2)\n",
            "Requirement already satisfied: contourpy>=1.0.1 in d:\\anaconda\\lib\\site-packages (from matplotlib>=2.2.3->phik) (1.0.5)\n",
            "Requirement already satisfied: pytz>=2020.1 in d:\\anaconda\\lib\\site-packages (from pandas>=0.25.1->phik) (2022.7)\n",
            "Requirement already satisfied: six>=1.5 in d:\\anaconda\\lib\\site-packages (from python-dateutil>=2.7->matplotlib>=2.2.3->phik) (1.16.0)\n",
            "Defaulting to user installation because normal site-packages is not writeable\n",
            "Requirement already satisfied: catboost in c:\\users\\1\\appdata\\roaming\\python\\python310\\site-packages (1.1.1)\n",
            "Requirement already satisfied: six in d:\\anaconda\\lib\\site-packages (from catboost) (1.16.0)\n",
            "Requirement already satisfied: pandas>=0.24.0 in d:\\anaconda\\lib\\site-packages (from catboost) (1.5.3)\n",
            "Requirement already satisfied: matplotlib in d:\\anaconda\\lib\\site-packages (from catboost) (3.7.0)\n",
            "Requirement already satisfied: scipy in d:\\anaconda\\lib\\site-packages (from catboost) (1.10.0)\n",
            "Requirement already satisfied: graphviz in c:\\users\\1\\appdata\\roaming\\python\\python310\\site-packages (from catboost) (0.20.1)\n",
            "Requirement already satisfied: plotly in d:\\anaconda\\lib\\site-packages (from catboost) (5.9.0)\n",
            "Requirement already satisfied: numpy>=1.16.0 in d:\\anaconda\\lib\\site-packages (from catboost) (1.23.5)\n",
            "Requirement already satisfied: pytz>=2020.1 in d:\\anaconda\\lib\\site-packages (from pandas>=0.24.0->catboost) (2022.7)\n",
            "Requirement already satisfied: python-dateutil>=2.8.1 in d:\\anaconda\\lib\\site-packages (from pandas>=0.24.0->catboost) (2.8.2)\n",
            "Requirement already satisfied: pyparsing>=2.3.1 in d:\\anaconda\\lib\\site-packages (from matplotlib->catboost) (3.0.9)\n",
            "Requirement already satisfied: cycler>=0.10 in d:\\anaconda\\lib\\site-packages (from matplotlib->catboost) (0.11.0)\n",
            "Requirement already satisfied: fonttools>=4.22.0 in d:\\anaconda\\lib\\site-packages (from matplotlib->catboost) (4.25.0)\n",
            "Requirement already satisfied: pillow>=6.2.0 in d:\\anaconda\\lib\\site-packages (from matplotlib->catboost) (9.4.0)\n",
            "Requirement already satisfied: packaging>=20.0 in d:\\anaconda\\lib\\site-packages (from matplotlib->catboost) (22.0)\n",
            "Requirement already satisfied: contourpy>=1.0.1 in d:\\anaconda\\lib\\site-packages (from matplotlib->catboost) (1.0.5)\n",
            "Requirement already satisfied: kiwisolver>=1.0.1 in d:\\anaconda\\lib\\site-packages (from matplotlib->catboost) (1.4.4)\n",
            "Requirement already satisfied: tenacity>=6.2.0 in d:\\anaconda\\lib\\site-packages (from plotly->catboost) (8.0.1)\n",
            "Defaulting to user installation because normal site-packages is not writeable\n",
            "Requirement already satisfied: optuna in c:\\users\\1\\appdata\\roaming\\python\\python310\\site-packages (3.1.0)\n",
            "Requirement already satisfied: colorlog in c:\\users\\1\\appdata\\roaming\\python\\python310\\site-packages (from optuna) (6.7.0)\n",
            "Requirement already satisfied: numpy in d:\\anaconda\\lib\\site-packages (from optuna) (1.23.5)\n",
            "Requirement already satisfied: PyYAML in d:\\anaconda\\lib\\site-packages (from optuna) (6.0)\n",
            "Requirement already satisfied: sqlalchemy>=1.3.0 in d:\\anaconda\\lib\\site-packages (from optuna) (1.4.39)\n",
            "Requirement already satisfied: tqdm in d:\\anaconda\\lib\\site-packages (from optuna) (4.64.1)\n",
            "Requirement already satisfied: alembic>=1.5.0 in c:\\users\\1\\appdata\\roaming\\python\\python310\\site-packages (from optuna) (1.10.2)\n",
            "Requirement already satisfied: cmaes>=0.9.1 in c:\\users\\1\\appdata\\roaming\\python\\python310\\site-packages (from optuna) (0.9.1)\n",
            "Requirement already satisfied: packaging>=20.0 in d:\\anaconda\\lib\\site-packages (from optuna) (22.0)\n",
            "Requirement already satisfied: Mako in c:\\users\\1\\appdata\\roaming\\python\\python310\\site-packages (from alembic>=1.5.0->optuna) (1.2.4)\n",
            "Requirement already satisfied: typing-extensions>=4 in d:\\anaconda\\lib\\site-packages (from alembic>=1.5.0->optuna) (4.4.0)\n",
            "Requirement already satisfied: greenlet!=0.4.17 in d:\\anaconda\\lib\\site-packages (from sqlalchemy>=1.3.0->optuna) (2.0.1)\n",
            "Requirement already satisfied: colorama in d:\\anaconda\\lib\\site-packages (from colorlog->optuna) (0.4.6)\n",
            "Requirement already satisfied: MarkupSafe>=0.9.2 in d:\\anaconda\\lib\\site-packages (from Mako->alembic>=1.5.0->optuna) (2.1.1)\n",
            "Defaulting to user installation because normal site-packages is not writeable\n",
            "Requirement already satisfied: vin-parser in c:\\users\\1\\appdata\\roaming\\python\\python310\\site-packages (0.0.1)\n",
            "Requirement already satisfied: requests==2.22.0 in c:\\users\\1\\appdata\\roaming\\python\\python310\\site-packages (from vin-parser) (2.22.0)\n",
            "Requirement already satisfied: certifi>=2017.4.17 in d:\\anaconda\\lib\\site-packages (from requests==2.22.0->vin-parser) (2022.12.7)\n",
            "Requirement already satisfied: chardet<3.1.0,>=3.0.2 in c:\\users\\1\\appdata\\roaming\\python\\python310\\site-packages (from requests==2.22.0->vin-parser) (3.0.4)\n",
            "Requirement already satisfied: idna<2.9,>=2.5 in c:\\users\\1\\appdata\\roaming\\python\\python310\\site-packages (from requests==2.22.0->vin-parser) (2.8)\n",
            "Requirement already satisfied: urllib3!=1.25.0,!=1.25.1,<1.26,>=1.21.1 in c:\\users\\1\\appdata\\roaming\\python\\python310\\site-packages (from requests==2.22.0->vin-parser) (1.25.11)\n"
          ]
        }
      ]
    },
    {
      "cell_type": "markdown",
      "source": [
        "#Блок импорта библиотек"
      ],
      "metadata": {
        "id": "Dk1_7IpDnNiT"
      }
    },
    {
      "cell_type": "code",
      "source": [
        "# импортируем pandas для работы с таблицами\n",
        "import pandas as pd\n",
        "# подключаем библиотеки визуализации\n",
        "import seaborn as sns\n",
        "import matplotlib.pyplot as plt\n",
        "# реализуем возможность вывода всех столбцов на экран\n",
        "pd.set_option('display.max_columns', None)\n",
        "#реализуем возможность вывода всех строк на экран\n",
        "pd.set_option('display.max_rows', None)\n",
        "# импортируем библиотеку для математических операций\n",
        "import numpy as np\n",
        "#импортируем phik\n",
        "import phik\n",
        "from phik import resources, report\n",
        "# обработка ворнингов\n",
        "import warnings\n",
        "warnings.filterwarnings(\"ignore\")\n",
        "# импорт optuna для подбора гиперпараметров\n",
        "import optuna\n",
        "# импорт метрик\n",
        "from sklearn.metrics import mean_squared_error\n",
        "from sklearn.metrics import mean_absolute_percentage_error\n",
        "# импорт выборок\n",
        "from sklearn.model_selection import train_test_split\n",
        "# импорт кэтбуста\n",
        "from catboost import cv\n",
        "from catboost import CatBoostRegressor, Pool\n",
        "# параметр Random State\n",
        "rs = 42"
      ],
      "metadata": {
        "id": "D4t86tnfnQF3"
      },
      "execution_count": null,
      "outputs": []
    },
    {
      "cell_type": "markdown",
      "source": [
        "#Знакомство с данными"
      ],
      "metadata": {
        "id": "U_6GCtYlnWjb"
      }
    },
    {
      "cell_type": "markdown",
      "source": [
        "Загружаем данные:"
      ],
      "metadata": {
        "id": "_HDj0Mg2W2VN"
      }
    },
    {
      "cell_type": "code",
      "source": [
        "df = pd.read_csv(r\"C:\\Users\\1\\Desktop\\Проект Kaggle/train.csv\") # данные для обучения модели\n",
        "df_test = pd.read_csv(r\"C:\\Users\\1\\Desktop\\Проект Kaggle/test.csv\") # данные для тестирования модели"
      ],
      "metadata": {
        "id": "HfK6HygvnYMR"
      },
      "execution_count": null,
      "outputs": []
    },
    {
      "cell_type": "markdown",
      "source": [
        "Смотрим размеры фреймов:"
      ],
      "metadata": {
        "id": "Dob9xq-RW4BW"
      }
    },
    {
      "cell_type": "code",
      "source": [
        "display(df.shape)\n",
        "display(df_test.shape)"
      ],
      "metadata": {
        "id": "VeJnTRrfV4Vn",
        "colab": {
          "base_uri": "https://localhost:8080/",
          "height": 52
        },
        "outputId": "9cc158d2-876b-4a2a-8df8-34ef60227e81"
      },
      "execution_count": null,
      "outputs": [
        {
          "output_type": "display_data",
          "data": {
            "text/plain": [
              "(440236, 15)"
            ]
          },
          "metadata": {}
        },
        {
          "output_type": "display_data",
          "data": {
            "text/plain": [
              "(110060, 14)"
            ]
          },
          "metadata": {}
        }
      ]
    },
    {
      "cell_type": "markdown",
      "source": [
        "##Количество пропусков в столбцах"
      ],
      "metadata": {
        "id": "MpddU6eanwrB"
      }
    },
    {
      "cell_type": "code",
      "source": [
        "display(df.isna().mean().sort_values(ascending=False))"
      ],
      "metadata": {
        "id": "YKMrf10Dnz_d",
        "colab": {
          "base_uri": "https://localhost:8080/",
          "height": 295
        },
        "outputId": "50c67611-0bd9-4ccb-dd22-985df3217fd6"
      },
      "execution_count": null,
      "outputs": [
        {
          "output_type": "display_data",
          "data": {
            "text/plain": [
              "transmission    0.116894\n",
              "body            0.023608\n",
              "condition       0.021364\n",
              "trim            0.018938\n",
              "model           0.018451\n",
              "make            0.018270\n",
              "color           0.001331\n",
              "interior        0.001331\n",
              "odometer        0.000157\n",
              "year            0.000000\n",
              "vin             0.000000\n",
              "state           0.000000\n",
              "seller          0.000000\n",
              "sellingprice    0.000000\n",
              "saledate        0.000000\n",
              "dtype: float64"
            ]
          },
          "metadata": {}
        }
      ]
    },
    {
      "cell_type": "code",
      "source": [
        "display(df_test.isna().mean().sort_values(ascending=False))"
      ],
      "metadata": {
        "id": "Cf72oPjWn3w_",
        "colab": {
          "base_uri": "https://localhost:8080/",
          "height": 277
        },
        "outputId": "b7c48b10-9637-444b-a7e7-0433a1e32a90"
      },
      "execution_count": null,
      "outputs": [
        {
          "output_type": "display_data",
          "data": {
            "text/plain": [
              "transmission    0.118226\n",
              "body            0.023569\n",
              "condition       0.021615\n",
              "trim            0.019208\n",
              "model           0.018890\n",
              "make            0.018726\n",
              "color           0.001436\n",
              "interior        0.001436\n",
              "odometer        0.000173\n",
              "year            0.000000\n",
              "vin             0.000000\n",
              "state           0.000000\n",
              "seller          0.000000\n",
              "saledate        0.000000\n",
              "dtype: float64"
            ]
          },
          "metadata": {}
        }
      ]
    },
    {
      "cell_type": "markdown",
      "source": [
        "#Замена некорректных значений\n"
      ],
      "metadata": {
        "id": "rJ67C0Abaa56"
      }
    },
    {
      "cell_type": "markdown",
      "source": [
        "##Преобразуем пропуски в строку"
      ],
      "metadata": {
        "id": "4_X897PrUi_N"
      }
    },
    {
      "cell_type": "code",
      "source": [
        "list_str = ['color','interior','model','trim','body','transmission']\n",
        "for x in list_str:\n",
        "  df[x] = df[x].astype('str')\n",
        "  df_test[x] = df_test[x].astype('str')\n",
        "  df[x] = df[x].fillna('empty')\n",
        "  df_test[x] = df_test[x].fillna('empty')"
      ],
      "metadata": {
        "id": "yOvKeeyFPPjO"
      },
      "execution_count": null,
      "outputs": []
    },
    {
      "cell_type": "markdown",
      "source": [
        "##Color/Interior"
      ],
      "metadata": {
        "id": "ebQImHPNJ8S1"
      }
    },
    {
      "cell_type": "markdown",
      "source": [
        "Через метод unique понимаем, что в столбцах цвета кузова и интерьера есть знак \"-\" который по существу обозначает пропуски. Корректируем:"
      ],
      "metadata": {
        "id": "UAP8Y2GdXDAZ"
      }
    },
    {
      "cell_type": "code",
      "source": [
        "# меняем символ \"—\" на пропуск \n",
        "df.loc[df['color']=='—','color'] = 'empty'\n",
        "df_test.loc[df_test['color']=='—','color'] = 'empty'\n",
        "df.loc[df['interior']=='—','interior'] = 'empty'\n",
        "df_test.loc[df_test['interior']=='—','interior'] = 'empty'\n",
        "# укрупняем цвет white включая в него off-white\n",
        "df = df.replace({'color':{'off-white':'white'},'interior':{'off-white':'white'}})\n",
        "df_test = df_test.replace({'color':{'off-white':'white'},'interior':{'off-white':'white'}})"
      ],
      "metadata": {
        "id": "K7E18yv23bmN"
      },
      "execution_count": null,
      "outputs": []
    },
    {
      "cell_type": "markdown",
      "source": [
        "В тренировочном датасете есть значения, которых нет в трейне. Зачем модели учить взаимосвязи между цветами, марками и моделями, которые её не будут спрашивать? Далее по такой же логике значения, которых не существует в трейне будут удалены."
      ],
      "metadata": {
        "id": "KLC-BnPdXNF_"
      }
    },
    {
      "cell_type": "code",
      "source": [
        "result_unique_color_list = list(set(df['color'].unique())-set(df_test['color'].unique()))\n",
        "display(result_unique_color_list)\n",
        "result_unique_interior_list = list(set(df['interior'].unique())-set(df_test['interior'].unique()))\n",
        "display(result_unique_interior_list)"
      ],
      "metadata": {
        "id": "J_64dwB7y-Hv",
        "colab": {
          "base_uri": "https://localhost:8080/",
          "height": 52
        },
        "outputId": "5cae24ef-586a-416b-c296-b5a277264b7b"
      },
      "execution_count": null,
      "outputs": [
        {
          "output_type": "display_data",
          "data": {
            "text/plain": [
              "[]"
            ]
          },
          "metadata": {}
        },
        {
          "output_type": "display_data",
          "data": {
            "text/plain": [
              "[]"
            ]
          },
          "metadata": {}
        }
      ]
    },
    {
      "cell_type": "markdown",
      "source": [
        "##Make"
      ],
      "metadata": {
        "id": "tGuKR9U6LkT5"
      }
    },
    {
      "cell_type": "markdown",
      "source": [
        "Через метод unique приводим названия марок к единому порядку:"
      ],
      "metadata": {
        "id": "egb_s8rTXdZI"
      }
    },
    {
      "cell_type": "code",
      "source": [
        "# устранение ошибок в названиях через словарь\n",
        "df = df.replace({'make':{'mercedes-benz':'mercedes','mercedes-b':'mercedes','vw':'volkswagen','dodge tk':'dodge','ford truck':'ford','mazda tk':'mazda','gmc truck':'gmc','landrover':'land rover'}})\n",
        "df_test = df_test.replace({'make':{'mercedes-benz':'mercedes','mercedes-b':'mercedes','vw':'volkswagen','dodge tk':'dodge','ford truck':'ford','mazda tk':'mazda','gmc truck':'gmc','hyundai tk':'hyundai','ford tk':'ford','landrover':'land rover','chev truck':'chevrolet','chevy':'chevrolet'}})"
      ],
      "metadata": {
        "id": "zWxiZj0GN53f"
      },
      "execution_count": null,
      "outputs": []
    },
    {
      "cell_type": "code",
      "source": [
        "df['make'] = df['make'].str.lower() # приводим к нижнему регистру\n",
        "df['make'] = df['make'].str.strip() # убирает пробелы\n",
        "df_test['make'] = df_test['make'].str.lower() # приводим к нижнему регистру\n",
        "df_test['make'] = df_test['make'].str.strip() # убирает пробелы"
      ],
      "metadata": {
        "id": "HpNoarhnLqpV"
      },
      "execution_count": null,
      "outputs": []
    },
    {
      "cell_type": "markdown",
      "source": [
        "Проверим, каких марок машин нет в тестовом датасете:"
      ],
      "metadata": {
        "id": "1sD0j8k2dEWG"
      }
    },
    {
      "cell_type": "code",
      "source": [
        "result_unique_make_list = list(set(df['make'].unique())-set(df_test['make'].unique()))\n",
        "display(result_unique_make_list)"
      ],
      "metadata": {
        "id": "ToPhDRZMTC_3",
        "colab": {
          "base_uri": "https://localhost:8080/",
          "height": 34
        },
        "outputId": "57853d62-3c71-495f-bfc7-34314b8f4a5d"
      },
      "execution_count": null,
      "outputs": [
        {
          "output_type": "display_data",
          "data": {
            "text/plain": [
              "['lamborghini', None, 'dot', 'airstream']"
            ]
          },
          "metadata": {}
        }
      ]
    },
    {
      "cell_type": "markdown",
      "source": [
        "Марки 'dot', 'airstream' и 'lamborghini' не встречаются в тестовом датасете. Их можно удалить из df"
      ],
      "metadata": {
        "id": "nz-I5yFdZKsq"
      }
    },
    {
      "cell_type": "code",
      "source": [
        "df = df[(df.make != 'dot') & (df.make != 'airstream') & (df.make != 'lamborghini')]"
      ],
      "metadata": {
        "id": "ajtYbj8FZUZC"
      },
      "execution_count": null,
      "outputs": []
    },
    {
      "cell_type": "code",
      "source": [
        "df['make'].unique()"
      ],
      "metadata": {
        "colab": {
          "base_uri": "https://localhost:8080/"
        },
        "id": "L8PXOSPrILYL",
        "outputId": "88ffcaa8-6eed-404b-c7d6-a6b01c80eb62"
      },
      "execution_count": null,
      "outputs": [
        {
          "output_type": "execute_result",
          "data": {
            "text/plain": [
              "array(['ford', 'nissan', 'hummer', 'lincoln', 'pontiac', 'hyundai', None,\n",
              "       'buick', 'chevrolet', 'honda', 'acura', 'cadillac', 'gmc', 'saab',\n",
              "       'dodge', 'mercedes-benz', 'toyota', 'volkswagen', 'bmw',\n",
              "       'infiniti', 'chrysler', 'kia', 'jaguar', 'subaru', 'jeep', 'lexus',\n",
              "       'mercedes', 'scion', 'fiat', 'suzuki', 'mazda', 'volvo', 'audi',\n",
              "       'mini', 'isuzu', 'mitsubishi', 'smart', 'porsche', 'land rover',\n",
              "       'saturn', 'ram', 'oldsmobile', 'mercury', 'bentley', 'fisker',\n",
              "       'maserati', 'tesla', 'rolls-royce', 'ferrari', 'plymouth', 'geo',\n",
              "       'aston martin', 'daewoo'], dtype=object)"
            ]
          },
          "metadata": {},
          "execution_count": 83
        }
      ]
    },
    {
      "cell_type": "markdown",
      "source": [
        "##Model"
      ],
      "metadata": {
        "id": "FlqMGmA7cM9p"
      }
    },
    {
      "cell_type": "code",
      "source": [
        "df['model'] = df['model'].str.lower() # приводим к нижнему регистру\n",
        "df['model'] = df['model'].str.strip() # убирает пробелы\n",
        "df_test['model'] = df_test['model'].str.lower() # приводим к нижнему регистру\n",
        "df_test['model'] = df_test['model'].str.strip() # убирает пробелы"
      ],
      "metadata": {
        "id": "ex3i7_aPcbkg"
      },
      "execution_count": null,
      "outputs": []
    },
    {
      "cell_type": "code",
      "source": [
        "len(df['model'].unique())"
      ],
      "metadata": {
        "id": "D3fl3COGA0RV",
        "colab": {
          "base_uri": "https://localhost:8080/"
        },
        "outputId": "e5ce5bd1-8f33-4a39-912d-aed38fd1b493"
      },
      "execution_count": null,
      "outputs": [
        {
          "output_type": "execute_result",
          "data": {
            "text/plain": [
              "838"
            ]
          },
          "metadata": {},
          "execution_count": 15
        }
      ]
    },
    {
      "cell_type": "code",
      "source": [
        "result_unique_model_list = list(set(df['model'].unique())-set(df_test['model'].unique()))\n",
        "df = df[df.model.isin(result_unique_model_list) == False ]\n",
        "display(len(result_unique_model_list))"
      ],
      "metadata": {
        "id": "UiDiSvdJ2ZtB",
        "colab": {
          "base_uri": "https://localhost:8080/",
          "height": 34
        },
        "outputId": "8df2efa9-14f6-47ad-9b32-d78e7be1fb74"
      },
      "execution_count": null,
      "outputs": [
        {
          "output_type": "display_data",
          "data": {
            "text/plain": [
              "103"
            ]
          },
          "metadata": {}
        }
      ]
    },
    {
      "cell_type": "code",
      "source": [
        "len(df['model'].unique())"
      ],
      "metadata": {
        "id": "2efG3v3WBBad",
        "colab": {
          "base_uri": "https://localhost:8080/"
        },
        "outputId": "a0a3afef-a8e1-475a-a034-9ce083630173"
      },
      "execution_count": null,
      "outputs": [
        {
          "output_type": "execute_result",
          "data": {
            "text/plain": [
              "735"
            ]
          },
          "metadata": {},
          "execution_count": 17
        }
      ]
    },
    {
      "cell_type": "markdown",
      "source": [
        "##Trim"
      ],
      "metadata": {
        "id": "CR3NwPWoxz0d"
      }
    },
    {
      "cell_type": "code",
      "source": [
        "df['trim'] = df['trim'].str.lower() # приводим к нижнему регистру\n",
        "df['trim'] = df['trim'].str.strip() # убирает пробелы\n",
        "df_test['trim'] = df_test['trim'].str.lower() # приводим к нижнему регистру\n",
        "df_test['trim'] = df_test['trim'].str.strip() # убирает пробелы"
      ],
      "metadata": {
        "id": "VYJGY9Tix94d"
      },
      "execution_count": null,
      "outputs": []
    },
    {
      "cell_type": "code",
      "source": [
        "len(df['trim'].unique()) # количество уникальных моделей до обработки"
      ],
      "metadata": {
        "id": "TyRr8Fw8-sSH",
        "colab": {
          "base_uri": "https://localhost:8080/"
        },
        "outputId": "6666b7e1-3bf7-4a50-831b-90678a623d97"
      },
      "execution_count": null,
      "outputs": [
        {
          "output_type": "execute_result",
          "data": {
            "text/plain": [
              "1790"
            ]
          },
          "metadata": {},
          "execution_count": 835
        }
      ]
    },
    {
      "cell_type": "code",
      "source": [
        "result_unique_trim_list = list(set(df['trim'].unique())-set(df_test['trim'].unique())) # смотрим каких значений нет в df_test\n",
        "df = df[df.trim.isin(result_unique_trim_list) == False ] # возвращает df только с теми значениями, которые есть и в df_test тоже \n",
        "display(len(result_unique_trim_list)) # смотрим насколько должно уменьшиться количество уникальных моделей"
      ],
      "metadata": {
        "id": "H0xldLXl1whq",
        "colab": {
          "base_uri": "https://localhost:8080/",
          "height": 34
        },
        "outputId": "d304460f-73a7-4b50-d7c7-3aecbb3327cb"
      },
      "execution_count": null,
      "outputs": [
        {
          "output_type": "display_data",
          "data": {
            "text/plain": [
              "391"
            ]
          },
          "metadata": {}
        }
      ]
    },
    {
      "cell_type": "code",
      "source": [
        "len(df['trim'].unique()) # 1839 - 440 = 1399 - значит код выше работает верно"
      ],
      "metadata": {
        "id": "sBWyVuZc-ncR",
        "colab": {
          "base_uri": "https://localhost:8080/"
        },
        "outputId": "c3767b32-ea6b-454b-b4af-60a158639033"
      },
      "execution_count": null,
      "outputs": [
        {
          "output_type": "execute_result",
          "data": {
            "text/plain": [
              "1399"
            ]
          },
          "metadata": {},
          "execution_count": 837
        }
      ]
    },
    {
      "cell_type": "markdown",
      "source": [
        "##Body"
      ],
      "metadata": {
        "id": "15wLXc0BD0GN"
      }
    },
    {
      "cell_type": "code",
      "source": [
        "df['body'] = df['body'].str.lower() # приводим к нижнему регистру\n",
        "df['body'] = df['body'].str.strip() # убирает пробелы\n",
        "df_test['body'] = df_test['body'].str.lower() # приводим к нижнему регистру\n",
        "df_test['body'] = df_test['body'].str.strip() # убирает пробелы"
      ],
      "metadata": {
        "id": "E59a2XH9Elyk"
      },
      "execution_count": null,
      "outputs": []
    },
    {
      "cell_type": "markdown",
      "source": [
        "По существу, группы кузовов можно укрупнить следующим образом:"
      ],
      "metadata": {
        "id": "wDahm0ilXxzM"
      }
    },
    {
      "cell_type": "code",
      "source": [
        "def body_types_group(x):\n",
        "    if 'sedan' in x:\n",
        "        return 'sedan'\n",
        "    elif 'van' in x:\n",
        "        return 'van'\n",
        "    elif 'coupe' in x:\n",
        "      return 'coupe'\n",
        "    elif 'cab' in x:\n",
        "      return 'cab'\n",
        "    elif 'wagon' in x:\n",
        "      return 'wagon'\n",
        "    elif 'convertible' in x:\n",
        "      return 'convertible'\n",
        "    return x\n",
        "df['body'] = df['body'].apply(body_types_group)\n",
        "df_test['body'] = df_test['body'].apply(body_types_group)"
      ],
      "metadata": {
        "id": "0UMCSk8zD_KN"
      },
      "execution_count": null,
      "outputs": []
    },
    {
      "cell_type": "code",
      "source": [
        "df = df.replace({'body':{'koup':'coupe'}})\n",
        "df_test = df_test.replace({'body':{'koup':'coupe'}})"
      ],
      "metadata": {
        "id": "SJYO8JS3IU-d"
      },
      "execution_count": null,
      "outputs": []
    },
    {
      "cell_type": "code",
      "source": [
        "result_unique_body_list = list(set(df['body'].unique())-set(df_test['body'].unique()))\n",
        "display(result_unique_body_list)"
      ],
      "metadata": {
        "id": "vRl6K6C7Iarn",
        "colab": {
          "base_uri": "https://localhost:8080/",
          "height": 34
        },
        "outputId": "4dcd74e3-4200-4a61-8909-f9ca21056fd6"
      },
      "execution_count": null,
      "outputs": [
        {
          "output_type": "display_data",
          "data": {
            "text/plain": [
              "[]"
            ]
          },
          "metadata": {}
        }
      ]
    },
    {
      "cell_type": "markdown",
      "source": [
        "##Transmission"
      ],
      "metadata": {
        "id": "ItS_TZl-KKup"
      }
    },
    {
      "cell_type": "markdown",
      "source": [
        "Заменим ручную коробку на 0, а автоматическую на 1"
      ],
      "metadata": {
        "id": "KOPedxrUKmyl"
      }
    },
    {
      "cell_type": "code",
      "source": [
        "df = df.replace({'transmission':{'automatic': 1,'manual': 0}})\n",
        "df_test = df_test.replace({'transmission':{'automatic': 1,'manual': 0}})"
      ],
      "metadata": {
        "id": "tI8nYGVdLQGc"
      },
      "execution_count": null,
      "outputs": []
    },
    {
      "cell_type": "markdown",
      "source": [
        "##Возвращаем пропуски"
      ],
      "metadata": {
        "id": "QblLmJz-TMjB"
      }
    },
    {
      "cell_type": "markdown",
      "source": [
        "Для работы с категориальными переменными мы заменили в категориальных столбцах тип данных на str, а пропуски заменили словом 'empty'. Теперь можно вернуть всё обратно:"
      ],
      "metadata": {
        "id": "EA3b4rnqTPfl"
      }
    },
    {
      "cell_type": "code",
      "source": [
        "df = df.replace(['empty'],np.nan) # меняем значения обратно на nan\n",
        "df_test = df_test.replace(['empty'],np.nan) # меняем значения обратно на nan\n",
        "df = df.replace(['nan'],np.nan) # меняем значения обратно на nan\n",
        "df_test = df_test.replace(['nan'],np.nan) # меняем значения обратно на nan"
      ],
      "metadata": {
        "id": "NrU_IN_BTcbd"
      },
      "execution_count": null,
      "outputs": []
    },
    {
      "cell_type": "markdown",
      "source": [
        "#Создание вспомогательного столбца"
      ],
      "metadata": {
        "id": "AmrCyYivRx8V"
      }
    },
    {
      "cell_type": "markdown",
      "source": [
        "##Возраст автомобиля"
      ],
      "metadata": {
        "id": "KijpXlTP_H-l"
      }
    },
    {
      "cell_type": "markdown",
      "source": [
        "Для людей (и для алгоритмов) может быть полезно знать возраст автомобиля"
      ],
      "metadata": {
        "id": "vvPyx-QI_M7Z"
      }
    },
    {
      "cell_type": "code",
      "source": [
        "df['saledate'] = pd.to_datetime(df['saledate'], utc=True) # приводим дату продажи к формату datetime uts\n",
        "df_test['saledate'] = pd.to_datetime(df_test['saledate'], utc=True) # приводим дату продажи к формату datetime uts\n",
        "df['sale_year'] = df['saledate'].dt.year # извлекаем год из даты продажи в df  \n",
        "df_test['sale_year'] = df_test['saledate'].dt.year # извлекаем год из даты продажи в df_test\n",
        "df['age_car'] = df['sale_year'] - df['year'] # добавляем столбец с возрастом автомобиля в годах\n",
        "df_test['age_car'] = df_test['sale_year'] - df_test['year'] # добавляем столбец с возрастом автомобиля в годах"
      ],
      "metadata": {
        "id": "FgW213Vn8qh9"
      },
      "execution_count": null,
      "outputs": []
    },
    {
      "cell_type": "markdown",
      "source": [
        "Теперь, когда у нас есть возраст автомобиля, знать дату и год продажи нет необходимости:"
      ],
      "metadata": {
        "id": "zsF8SOmkSCCh"
      }
    },
    {
      "cell_type": "code",
      "source": [
        "df.drop(['saledate', 'sale_year'],axis=1,inplace=True)\n",
        "df_test.drop(['saledate', 'sale_year'],axis=1,inplace=True)"
      ],
      "metadata": {
        "id": "AxoZbL-zSavW"
      },
      "execution_count": null,
      "outputs": []
    },
    {
      "cell_type": "code",
      "source": [
        "df.loc[df['age_car'] < 0, 'age_car'] = 0\n",
        "df_test.loc[df_test['age_car'] < 0, 'age_car'] = 0"
      ],
      "metadata": {
        "id": "etvvHNGU9Np8"
      },
      "execution_count": null,
      "outputs": []
    },
    {
      "cell_type": "code",
      "source": [
        "drop_list = df[(df['age_car']==0)&(df['odometer']>16000)==True].index.tolist()\n",
        "df = df.drop(index=drop_list).reset_index(drop=True)"
      ],
      "metadata": {
        "id": "0JYhcCWYVNUJ"
      },
      "execution_count": null,
      "outputs": []
    },
    {
      "cell_type": "markdown",
      "source": [
        "#Удаление \"лишних\" фичей"
      ],
      "metadata": {
        "id": "sYMeaYObFtmi"
      }
    },
    {
      "cell_type": "markdown",
      "source": [
        "VIN номер уникален для каждого автомобиля. И хотя он и содержит в себе информацию о марке, типе кузова, двигателе и много чего еще, в рамках 50+ уникальных марок выявить структуру VIN для каждой конкретной будет проблематично. А т.к я не успел прикрутить vin-decoder, откажемся от этого столбца. Год нам больше не нужен, т.к у нас уже есть столбец возраста автомобиля. "
      ],
      "metadata": {
        "id": "jIDgQtbj80iK"
      }
    },
    {
      "cell_type": "code",
      "source": [
        "df.drop(['year', 'vin', 'seller'], axis= 1 , inplace= True) # удаляем ненужные столбцы\n",
        "df_test.drop(['year', 'vin', 'seller'], axis= 1 , inplace= True) # удаляем ненужные столбцы"
      ],
      "metadata": {
        "id": "eEUxjkNHFxhn"
      },
      "execution_count": null,
      "outputs": []
    },
    {
      "cell_type": "code",
      "source": [
        "df.head()"
      ],
      "metadata": {
        "colab": {
          "base_uri": "https://localhost:8080/",
          "height": 206
        },
        "id": "oCrARQ5yHl4P",
        "outputId": "1640187b-9943-4556-a0fc-67e7b593e2a8"
      },
      "execution_count": null,
      "outputs": [
        {
          "output_type": "execute_result",
          "data": {
            "text/plain": [
              "     make   model    trim   body  transmission state  condition  odometer  \\\n",
              "0    ford    edge     sel    suv           1.0    md        4.2  111041.0   \n",
              "1    ford  fusion      se  sedan           1.0    mo        3.5   31034.0   \n",
              "2  nissan  sentra  2.0 sl  sedan           1.0    nj        2.2   35619.0   \n",
              "3  hummer      h2    base    suv           1.0    tx        2.8  131301.0   \n",
              "4    ford  fusion     sel  sedan           1.0    md        2.0  127709.0   \n",
              "\n",
              "   color interior  sellingprice  age_car  \n",
              "0  black    black         12500        4  \n",
              "1  black    black         14500        1  \n",
              "2  black    black          9100        3  \n",
              "3   gold    beige         13300       12  \n",
              "4  black    black          1300        8  "
            ],
            "text/html": [
              "<div>\n",
              "<style scoped>\n",
              "    .dataframe tbody tr th:only-of-type {\n",
              "        vertical-align: middle;\n",
              "    }\n",
              "\n",
              "    .dataframe tbody tr th {\n",
              "        vertical-align: top;\n",
              "    }\n",
              "\n",
              "    .dataframe thead th {\n",
              "        text-align: right;\n",
              "    }\n",
              "</style>\n",
              "<table border=\"1\" class=\"dataframe\">\n",
              "  <thead>\n",
              "    <tr style=\"text-align: right;\">\n",
              "      <th></th>\n",
              "      <th>make</th>\n",
              "      <th>model</th>\n",
              "      <th>trim</th>\n",
              "      <th>body</th>\n",
              "      <th>transmission</th>\n",
              "      <th>state</th>\n",
              "      <th>condition</th>\n",
              "      <th>odometer</th>\n",
              "      <th>color</th>\n",
              "      <th>interior</th>\n",
              "      <th>sellingprice</th>\n",
              "      <th>age_car</th>\n",
              "    </tr>\n",
              "  </thead>\n",
              "  <tbody>\n",
              "    <tr>\n",
              "      <th>0</th>\n",
              "      <td>ford</td>\n",
              "      <td>edge</td>\n",
              "      <td>sel</td>\n",
              "      <td>suv</td>\n",
              "      <td>1.0</td>\n",
              "      <td>md</td>\n",
              "      <td>4.2</td>\n",
              "      <td>111041.0</td>\n",
              "      <td>black</td>\n",
              "      <td>black</td>\n",
              "      <td>12500</td>\n",
              "      <td>4</td>\n",
              "    </tr>\n",
              "    <tr>\n",
              "      <th>1</th>\n",
              "      <td>ford</td>\n",
              "      <td>fusion</td>\n",
              "      <td>se</td>\n",
              "      <td>sedan</td>\n",
              "      <td>1.0</td>\n",
              "      <td>mo</td>\n",
              "      <td>3.5</td>\n",
              "      <td>31034.0</td>\n",
              "      <td>black</td>\n",
              "      <td>black</td>\n",
              "      <td>14500</td>\n",
              "      <td>1</td>\n",
              "    </tr>\n",
              "    <tr>\n",
              "      <th>2</th>\n",
              "      <td>nissan</td>\n",
              "      <td>sentra</td>\n",
              "      <td>2.0 sl</td>\n",
              "      <td>sedan</td>\n",
              "      <td>1.0</td>\n",
              "      <td>nj</td>\n",
              "      <td>2.2</td>\n",
              "      <td>35619.0</td>\n",
              "      <td>black</td>\n",
              "      <td>black</td>\n",
              "      <td>9100</td>\n",
              "      <td>3</td>\n",
              "    </tr>\n",
              "    <tr>\n",
              "      <th>3</th>\n",
              "      <td>hummer</td>\n",
              "      <td>h2</td>\n",
              "      <td>base</td>\n",
              "      <td>suv</td>\n",
              "      <td>1.0</td>\n",
              "      <td>tx</td>\n",
              "      <td>2.8</td>\n",
              "      <td>131301.0</td>\n",
              "      <td>gold</td>\n",
              "      <td>beige</td>\n",
              "      <td>13300</td>\n",
              "      <td>12</td>\n",
              "    </tr>\n",
              "    <tr>\n",
              "      <th>4</th>\n",
              "      <td>ford</td>\n",
              "      <td>fusion</td>\n",
              "      <td>sel</td>\n",
              "      <td>sedan</td>\n",
              "      <td>1.0</td>\n",
              "      <td>md</td>\n",
              "      <td>2.0</td>\n",
              "      <td>127709.0</td>\n",
              "      <td>black</td>\n",
              "      <td>black</td>\n",
              "      <td>1300</td>\n",
              "      <td>8</td>\n",
              "    </tr>\n",
              "  </tbody>\n",
              "</table>\n",
              "</div>"
            ]
          },
          "metadata": {},
          "execution_count": 849
        }
      ]
    },
    {
      "cell_type": "markdown",
      "source": [
        "#Обработка экстремальных значений (выбросов) в df"
      ],
      "metadata": {
        "id": "mPRlBJSaFlsi"
      }
    },
    {
      "cell_type": "code",
      "source": [
        "def iqr(data, column): # введем ф-ю, описывающую параметры значений столбца\n",
        "    \"\"\"\n",
        "    Функция подсчитывает диапазон с учетом межквартильного размаха\n",
        "    \"\"\"\n",
        "    print(data[column].describe())\n",
        "    iqr = data[column].describe()[6] - data[column].describe()[4]\n",
        "    low_bond = data[column].describe()[4] - 1.5 * iqr\n",
        "    if low_bond < 0:\n",
        "        low_bond = data[column].describe()[3]\n",
        "    upper_bond = data[column].describe()[6] + 1.5 * iqr\n",
        "    print('Нижняя граница:', low_bond)\n",
        "    print('Верхняя граница:', upper_bond)\n",
        "# возьмем часть из функции выше, но для возвращения нижней границы усов, это понадобится при удалении лишних значений\n",
        "def low_bond(data, column): \n",
        "    iqr = data[column].describe()[6] - data[column].describe()[4]\n",
        "    low_bond = data[column].describe()[4] - 1.5 * iqr\n",
        "    if low_bond < 0:\n",
        "        low_bond = data[column].describe()[3]\n",
        "    return low_bond\n",
        "# введем аналогичную функцию для верхней границы усов\n",
        "def upper_bond(data, column): \n",
        "    iqr = data[column].describe()[6] - data[column].describe()[4]\n",
        "    upper_bond = data[column].describe()[6] + 1.5 * iqr\n",
        "    return upper_bond"
      ],
      "metadata": {
        "id": "lX_GgMiAKYLu"
      },
      "execution_count": null,
      "outputs": []
    },
    {
      "cell_type": "markdown",
      "source": [
        "##Sellingprice"
      ],
      "metadata": {
        "id": "oUkMYG-xHo0k"
      }
    },
    {
      "cell_type": "code",
      "source": [
        "df.hist(column = 'sellingprice',bins=100,range=(0,150000))\n",
        "plt.show()\n",
        "display(iqr(df, 'sellingprice'))"
      ],
      "metadata": {
        "colab": {
          "base_uri": "https://localhost:8080/",
          "height": 658
        },
        "id": "xhd18NIcKajA",
        "outputId": "c42ab442-4e3d-4f81-fadb-cad35e5ec395"
      },
      "execution_count": null,
      "outputs": [
        {
          "output_type": "display_data",
          "data": {
            "text/plain": [
              "<Figure size 640x480 with 1 Axes>"
            ],
            "image/png": "[encoded data removed]"
          },
          "metadata": {}
        },
        {
          "output_type": "stream",
          "name": "stdout",
          "text": [
            "count    434881.000000\n",
            "mean      13514.747669\n",
            "std        9647.802863\n",
            "min           1.000000\n",
            "25%        6800.000000\n",
            "50%       12100.000000\n",
            "75%       18100.000000\n",
            "max      230000.000000\n",
            "Name: sellingprice, dtype: float64\n",
            "Нижняя граница: 1.0\n",
            "Верхняя граница: 35050.0\n"
          ]
        },
        {
          "output_type": "display_data",
          "data": {
            "text/plain": [
              "None"
            ]
          },
          "metadata": {}
        }
      ]
    },
    {
      "cell_type": "markdown",
      "source": [
        "Попробуем обрезать так:"
      ],
      "metadata": {
        "id": "5TN6uO2sKMGJ"
      }
    },
    {
      "cell_type": "code",
      "source": [
        "display(np.percentile(df['sellingprice'],5)) # процентиль для определения нижнего сегмента выбросов\n",
        "display(np.percentile(df['sellingprice'],99)) # процентиль для определения верхнего сегмента выбросов"
      ],
      "metadata": {
        "colab": {
          "base_uri": "https://localhost:8080/",
          "height": 52
        },
        "id": "BQGQNUYiHt6c",
        "outputId": "5ffa3479-a753-4230-df02-60d82979f329"
      },
      "execution_count": null,
      "outputs": [
        {
          "output_type": "display_data",
          "data": {
            "text/plain": [
              "1500.0"
            ]
          },
          "metadata": {}
        },
        {
          "output_type": "display_data",
          "data": {
            "text/plain": [
              "44250.0"
            ]
          },
          "metadata": {}
        }
      ]
    },
    {
      "cell_type": "code",
      "source": [
        "def price_type(row):\n",
        "    if row['sellingprice'] >= 200000:\n",
        "        return 'luxury'\n",
        "    elif row['sellingprice'] <= 1500:\n",
        "        return 'low cost'\n",
        "    elif row['sellingprice'] > 1500 and row['sellingprice'] < 200000:\n",
        "      return 'common'\n",
        "# создадим категорию автомобиля по его цене\n",
        "df['price_type'] = df.apply(price_type, axis=1)"
      ],
      "metadata": {
        "id": "eK5o4MMxNFOU"
      },
      "execution_count": null,
      "outputs": []
    },
    {
      "cell_type": "code",
      "source": [
        "plt.figure(figsize=(9,9))\n",
        "sns.barplot(data=df.groupby('price_type')[['age_car']].count().reset_index(),\n",
        "            y = 'price_type',\n",
        "            x = 'age_car',\n",
        "            palette='viridis')\n",
        "plt.show()\n",
        "df.drop(['price_type'], axis= 1 , inplace= True) # удаляем вспомогательный столбец"
      ],
      "metadata": {
        "colab": {
          "base_uri": "https://localhost:8080/",
          "height": 773
        },
        "id": "Lfg4o9EfPToQ",
        "outputId": "9faadb06-29bf-4d82-8461-b4ae2e1a82cf"
      },
      "execution_count": null,
      "outputs": [
        {
          "output_type": "display_data",
          "data": {
            "text/plain": [
              "<Figure size 900x900 with 1 Axes>"
            ],
            "image/png": "[encoded data removed]"
          },
          "metadata": {}
        }
      ]
    },
    {
      "cell_type": "code",
      "source": [
        "df = df[(df.sellingprice > 1500)&(df.sellingprice < 200000)] # больше 1500 но меньше 200000"
      ],
      "metadata": {
        "id": "GMdFerARf4X3"
      },
      "execution_count": null,
      "outputs": []
    },
    {
      "cell_type": "markdown",
      "source": [
        "##Odometer"
      ],
      "metadata": {
        "id": "Pui5eW9VWVl5"
      }
    },
    {
      "cell_type": "code",
      "source": [
        "df.hist(column = 'odometer',bins=100,range=(0,150000))\n",
        "plt.show()\n",
        "display(iqr(df, 'odometer'))"
      ],
      "metadata": {
        "colab": {
          "base_uri": "https://localhost:8080/",
          "height": 658
        },
        "id": "4LliROw2WpDv",
        "outputId": "66783f29-9511-4d04-8c19-816acf5e33db"
      },
      "execution_count": null,
      "outputs": [
        {
          "output_type": "display_data",
          "data": {
            "text/plain": [
              "<Figure size 640x480 with 1 Axes>"
            ],
            "image/png": "[encoded data removed]"
          },
          "metadata": {}
        },
        {
          "output_type": "stream",
          "name": "stdout",
          "text": [
            "count    412123.000000\n",
            "mean      63635.077283\n",
            "std       48057.449648\n",
            "min           1.000000\n",
            "25%       27649.500000\n",
            "50%       49298.000000\n",
            "75%       92293.000000\n",
            "max      999999.000000\n",
            "Name: odometer, dtype: float64\n",
            "Нижняя граница: 1.0\n",
            "Верхняя граница: 189258.25\n"
          ]
        },
        {
          "output_type": "display_data",
          "data": {
            "text/plain": [
              "None"
            ]
          },
          "metadata": {}
        }
      ]
    },
    {
      "cell_type": "code",
      "source": [
        "df = df[df.odometer < 200000] # остались значения меньше 200000"
      ],
      "metadata": {
        "id": "QjXllBbNcf4Z"
      },
      "execution_count": null,
      "outputs": []
    },
    {
      "cell_type": "markdown",
      "source": [
        "#Заполнение пропущенных значений"
      ],
      "metadata": {
        "id": "-D2XFGnUvTzs"
      }
    },
    {
      "cell_type": "markdown",
      "source": [
        "##Odometer"
      ],
      "metadata": {
        "id": "k9Jxq7SLvtTc"
      }
    },
    {
      "cell_type": "code",
      "source": [
        "df['odometer'] = df.groupby('age_car')['odometer'].apply(lambda x: x.fillna(x.mean()))\n",
        "df_test['odometer'] = df_test.groupby('age_car')['odometer'].apply(lambda x: x.fillna(x.mean()))"
      ],
      "metadata": {
        "id": "Qv1PWCcGvwQq"
      },
      "execution_count": null,
      "outputs": []
    },
    {
      "cell_type": "markdown",
      "source": [
        "##Condition"
      ],
      "metadata": {
        "id": "-qYKXkU0v6Wa"
      }
    },
    {
      "cell_type": "code",
      "source": [
        "df['condition'] = df.groupby('age_car')['condition'].apply(lambda x: x.fillna(x.mean()))\n",
        "df_test['condition'] = df_test.groupby('age_car')['condition'].apply(lambda x: x.fillna(x.mean()))"
      ],
      "metadata": {
        "id": "66rz1iWLv8UV"
      },
      "execution_count": null,
      "outputs": []
    },
    {
      "cell_type": "markdown",
      "source": [
        "##Transmission"
      ],
      "metadata": {
        "id": "J0kVfzbmwenO"
      }
    },
    {
      "cell_type": "code",
      "source": [
        "df['transmission'] = df['transmission'].fillna(1)\n",
        "df_test['transmission'] = df_test['transmission'].fillna(1)"
      ],
      "metadata": {
        "id": "hONKHzifwhFf"
      },
      "execution_count": null,
      "outputs": []
    },
    {
      "cell_type": "markdown",
      "source": [
        "#Конвертирование типов фичей"
      ],
      "metadata": {
        "id": "GZ79bFKoxjjl"
      }
    },
    {
      "cell_type": "code",
      "source": [
        "df_test.head()"
      ],
      "metadata": {
        "colab": {
          "base_uri": "https://localhost:8080/",
          "height": 206
        },
        "id": "cDvKnblWW70U",
        "outputId": "cd8b9220-06cd-4eb1-90c3-0fec72f6f165"
      },
      "execution_count": null,
      "outputs": [
        {
          "output_type": "execute_result",
          "data": {
            "text/plain": [
              "        make         model      trim   body  transmission state  condition  \\\n",
              "0   cadillac           cts      base  sedan           1.0    ca        2.7   \n",
              "1        gmc  savana cargo      2500    van           1.0    pa        4.4   \n",
              "2     nissan        murano         s    suv           1.0    oh        4.6   \n",
              "3  chevrolet        impala  ls fleet  sedan           1.0    fl        2.3   \n",
              "4     nissan         titan        sv    cab           1.0    tn        2.9   \n",
              "\n",
              "   odometer   color interior  age_car  \n",
              "0  116970.0  silver    black       10  \n",
              "1    6286.0   white     gray        1  \n",
              "2   11831.0    gray    black        2  \n",
              "3   57105.0  silver    black        2  \n",
              "4   31083.0   black    black        2  "
            ],
            "text/html": [
              "<div>\n",
              "<style scoped>\n",
              "    .dataframe tbody tr th:only-of-type {\n",
              "        vertical-align: middle;\n",
              "    }\n",
              "\n",
              "    .dataframe tbody tr th {\n",
              "        vertical-align: top;\n",
              "    }\n",
              "\n",
              "    .dataframe thead th {\n",
              "        text-align: right;\n",
              "    }\n",
              "</style>\n",
              "<table border=\"1\" class=\"dataframe\">\n",
              "  <thead>\n",
              "    <tr style=\"text-align: right;\">\n",
              "      <th></th>\n",
              "      <th>make</th>\n",
              "      <th>model</th>\n",
              "      <th>trim</th>\n",
              "      <th>body</th>\n",
              "      <th>transmission</th>\n",
              "      <th>state</th>\n",
              "      <th>condition</th>\n",
              "      <th>odometer</th>\n",
              "      <th>color</th>\n",
              "      <th>interior</th>\n",
              "      <th>age_car</th>\n",
              "    </tr>\n",
              "  </thead>\n",
              "  <tbody>\n",
              "    <tr>\n",
              "      <th>0</th>\n",
              "      <td>cadillac</td>\n",
              "      <td>cts</td>\n",
              "      <td>base</td>\n",
              "      <td>sedan</td>\n",
              "      <td>1.0</td>\n",
              "      <td>ca</td>\n",
              "      <td>2.7</td>\n",
              "      <td>116970.0</td>\n",
              "      <td>silver</td>\n",
              "      <td>black</td>\n",
              "      <td>10</td>\n",
              "    </tr>\n",
              "    <tr>\n",
              "      <th>1</th>\n",
              "      <td>gmc</td>\n",
              "      <td>savana cargo</td>\n",
              "      <td>2500</td>\n",
              "      <td>van</td>\n",
              "      <td>1.0</td>\n",
              "      <td>pa</td>\n",
              "      <td>4.4</td>\n",
              "      <td>6286.0</td>\n",
              "      <td>white</td>\n",
              "      <td>gray</td>\n",
              "      <td>1</td>\n",
              "    </tr>\n",
              "    <tr>\n",
              "      <th>2</th>\n",
              "      <td>nissan</td>\n",
              "      <td>murano</td>\n",
              "      <td>s</td>\n",
              "      <td>suv</td>\n",
              "      <td>1.0</td>\n",
              "      <td>oh</td>\n",
              "      <td>4.6</td>\n",
              "      <td>11831.0</td>\n",
              "      <td>gray</td>\n",
              "      <td>black</td>\n",
              "      <td>2</td>\n",
              "    </tr>\n",
              "    <tr>\n",
              "      <th>3</th>\n",
              "      <td>chevrolet</td>\n",
              "      <td>impala</td>\n",
              "      <td>ls fleet</td>\n",
              "      <td>sedan</td>\n",
              "      <td>1.0</td>\n",
              "      <td>fl</td>\n",
              "      <td>2.3</td>\n",
              "      <td>57105.0</td>\n",
              "      <td>silver</td>\n",
              "      <td>black</td>\n",
              "      <td>2</td>\n",
              "    </tr>\n",
              "    <tr>\n",
              "      <th>4</th>\n",
              "      <td>nissan</td>\n",
              "      <td>titan</td>\n",
              "      <td>sv</td>\n",
              "      <td>cab</td>\n",
              "      <td>1.0</td>\n",
              "      <td>tn</td>\n",
              "      <td>2.9</td>\n",
              "      <td>31083.0</td>\n",
              "      <td>black</td>\n",
              "      <td>black</td>\n",
              "      <td>2</td>\n",
              "    </tr>\n",
              "  </tbody>\n",
              "</table>\n",
              "</div>"
            ]
          },
          "metadata": {},
          "execution_count": 861
        }
      ]
    },
    {
      "cell_type": "code",
      "source": [
        "df['transmission'] = df['transmission'].astype('int')\n",
        "df_test['transmission'] = df_test['transmission'].astype('int')\n",
        "string_list = ['make','model','trim','body','state','color','interior']\n",
        "for x in string_list:\n",
        "  df[x] = df[x].astype('string')\n",
        "  df_test[x] = df_test[x].astype('string')"
      ],
      "metadata": {
        "id": "TRIOs2YyxrjH"
      },
      "execution_count": null,
      "outputs": []
    },
    {
      "cell_type": "code",
      "source": [
        "df_test.head()"
      ],
      "metadata": {
        "colab": {
          "base_uri": "https://localhost:8080/",
          "height": 206
        },
        "id": "kDweL5RUW-Md",
        "outputId": "778fc8d3-1817-4c13-a8f3-29d2dc4bc1c2"
      },
      "execution_count": null,
      "outputs": [
        {
          "output_type": "execute_result",
          "data": {
            "text/plain": [
              "        make         model      trim   body  transmission state  condition  \\\n",
              "0   cadillac           cts      base  sedan             1    ca        2.7   \n",
              "1        gmc  savana cargo      2500    van             1    pa        4.4   \n",
              "2     nissan        murano         s    suv             1    oh        4.6   \n",
              "3  chevrolet        impala  ls fleet  sedan             1    fl        2.3   \n",
              "4     nissan         titan        sv    cab             1    tn        2.9   \n",
              "\n",
              "   odometer   color interior  age_car  \n",
              "0  116970.0  silver    black       10  \n",
              "1    6286.0   white     gray        1  \n",
              "2   11831.0    gray    black        2  \n",
              "3   57105.0  silver    black        2  \n",
              "4   31083.0   black    black        2  "
            ],
            "text/html": [
              "<div>\n",
              "<style scoped>\n",
              "    .dataframe tbody tr th:only-of-type {\n",
              "        vertical-align: middle;\n",
              "    }\n",
              "\n",
              "    .dataframe tbody tr th {\n",
              "        vertical-align: top;\n",
              "    }\n",
              "\n",
              "    .dataframe thead th {\n",
              "        text-align: right;\n",
              "    }\n",
              "</style>\n",
              "<table border=\"1\" class=\"dataframe\">\n",
              "  <thead>\n",
              "    <tr style=\"text-align: right;\">\n",
              "      <th></th>\n",
              "      <th>make</th>\n",
              "      <th>model</th>\n",
              "      <th>trim</th>\n",
              "      <th>body</th>\n",
              "      <th>transmission</th>\n",
              "      <th>state</th>\n",
              "      <th>condition</th>\n",
              "      <th>odometer</th>\n",
              "      <th>color</th>\n",
              "      <th>interior</th>\n",
              "      <th>age_car</th>\n",
              "    </tr>\n",
              "  </thead>\n",
              "  <tbody>\n",
              "    <tr>\n",
              "      <th>0</th>\n",
              "      <td>cadillac</td>\n",
              "      <td>cts</td>\n",
              "      <td>base</td>\n",
              "      <td>sedan</td>\n",
              "      <td>1</td>\n",
              "      <td>ca</td>\n",
              "      <td>2.7</td>\n",
              "      <td>116970.0</td>\n",
              "      <td>silver</td>\n",
              "      <td>black</td>\n",
              "      <td>10</td>\n",
              "    </tr>\n",
              "    <tr>\n",
              "      <th>1</th>\n",
              "      <td>gmc</td>\n",
              "      <td>savana cargo</td>\n",
              "      <td>2500</td>\n",
              "      <td>van</td>\n",
              "      <td>1</td>\n",
              "      <td>pa</td>\n",
              "      <td>4.4</td>\n",
              "      <td>6286.0</td>\n",
              "      <td>white</td>\n",
              "      <td>gray</td>\n",
              "      <td>1</td>\n",
              "    </tr>\n",
              "    <tr>\n",
              "      <th>2</th>\n",
              "      <td>nissan</td>\n",
              "      <td>murano</td>\n",
              "      <td>s</td>\n",
              "      <td>suv</td>\n",
              "      <td>1</td>\n",
              "      <td>oh</td>\n",
              "      <td>4.6</td>\n",
              "      <td>11831.0</td>\n",
              "      <td>gray</td>\n",
              "      <td>black</td>\n",
              "      <td>2</td>\n",
              "    </tr>\n",
              "    <tr>\n",
              "      <th>3</th>\n",
              "      <td>chevrolet</td>\n",
              "      <td>impala</td>\n",
              "      <td>ls fleet</td>\n",
              "      <td>sedan</td>\n",
              "      <td>1</td>\n",
              "      <td>fl</td>\n",
              "      <td>2.3</td>\n",
              "      <td>57105.0</td>\n",
              "      <td>silver</td>\n",
              "      <td>black</td>\n",
              "      <td>2</td>\n",
              "    </tr>\n",
              "    <tr>\n",
              "      <th>4</th>\n",
              "      <td>nissan</td>\n",
              "      <td>titan</td>\n",
              "      <td>sv</td>\n",
              "      <td>cab</td>\n",
              "      <td>1</td>\n",
              "      <td>tn</td>\n",
              "      <td>2.9</td>\n",
              "      <td>31083.0</td>\n",
              "      <td>black</td>\n",
              "      <td>black</td>\n",
              "      <td>2</td>\n",
              "    </tr>\n",
              "  </tbody>\n",
              "</table>\n",
              "</div>"
            ]
          },
          "metadata": {},
          "execution_count": 863
        }
      ]
    },
    {
      "cell_type": "markdown",
      "source": [
        "##Other"
      ],
      "metadata": {
        "id": "1Y-Y5Aoh5h99"
      }
    },
    {
      "cell_type": "code",
      "source": [
        "df = df.dropna(subset=['make','model','trim'])\n",
        "df = df.fillna('empty').copy()\n",
        "df_test = df_test.fillna('empty').copy()"
      ],
      "metadata": {
        "id": "o8CLoAjC5lWO"
      },
      "execution_count": null,
      "outputs": []
    },
    {
      "cell_type": "markdown",
      "source": [
        "#Optuna + CatBoost"
      ],
      "metadata": {
        "id": "HuTHUjSXiGQj"
      }
    },
    {
      "cell_type": "markdown",
      "source": [
        "##Фичи"
      ],
      "metadata": {
        "id": "n29fjzTyhmig"
      }
    },
    {
      "cell_type": "code",
      "source": [
        "X = ['make', 'model',\t'trim',\t'body',\t'transmission',\t'state', 'condition', 'odometer', 'color',\t'interior', 'age_car'] # список всех фичей кроме целевого\n",
        "cat_features = ['make','model','trim','body','state','color','interior'] # категориальные фичи\n",
        "y = ['sellingprice'] # целевая фича"
      ],
      "metadata": {
        "id": "_OcmW01miJHg"
      },
      "execution_count": null,
      "outputs": []
    },
    {
      "cell_type": "markdown",
      "source": [
        "##Optuna"
      ],
      "metadata": {
        "id": "ZAOzHX2ZOFuj"
      }
    },
    {
      "cell_type": "markdown",
      "source": [
        "###Выборки для Optuna"
      ],
      "metadata": {
        "id": "6-mCpSpcQq3U"
      }
    },
    {
      "cell_type": "code",
      "source": [
        "#SAMPLE_RATE = 0.4 # какую часть данных брать для оптуны (сейчас 40%)\n",
        "#RANDOM_SEED = rs # параметр рандом\n",
        "#EARLY_STOPPING_ROUND = 100 # если больше 100 итераций ничего не улучшается - конец обучения\n",
        "\n",
        "#train_sample = df.sample(int(df.shape[0] * SAMPLE_RATE)) # берем часть данных \n",
        "\n",
        "#X = train_sample[X] # все фичи из кэтбуста\n",
        "#y = train_sample[y] # таргет из кэтбуста\n",
        "\n",
        "#X_train, X_valid, y_train, y_valid = train_test_split(X, y, test_size=0.2, random_state=RANDOM_SEED) # делаем выборки ТОЛЬКО ДЛЯ ОПТУНЫ\n",
        "#X_train, X_eval, y_train, y_eval = train_test_split(X_train, y_train, test_size=0.1, random_state=RANDOM_SEED) # ДОБАВЛЯЕТСЯ EVAL "
      ],
      "metadata": {
        "id": "dWzVlSxZQfh-"
      },
      "execution_count": null,
      "outputs": []
    },
    {
      "cell_type": "markdown",
      "source": [
        "###Гиперпараметры CatBoost для подбора Optuna"
      ],
      "metadata": {
        "id": "KomtDqsiREww"
      }
    },
    {
      "cell_type": "code",
      "source": [
        "#def objective(trial):\n",
        "#    param = {}\n",
        "#    param['learning_rate'] = trial.suggest_discrete_uniform(\"learning_rate\", 0.001, 0.02, 0.001)\n",
        "#    param['depth'] = trial.suggest_int('depth', 9, 15)\n",
        "#    param['l2_leaf_reg'] = trial.suggest_discrete_uniform('l2_leaf_reg', 1.0, 5.5, 0.5)\n",
        "#    param['min_child_samples'] = trial.suggest_categorical('min_child_samples', [1, 4, 8, 16, 32])\n",
        "#    param['grow_policy'] = 'Depthwise'\n",
        "#    param['iterations'] = 10000\n",
        "#    param['use_best_model'] = True\n",
        "#    param['eval_metric'] = 'MAPE'\n",
        "#    param['od_type'] = 'iter'\n",
        "#    param['od_wait'] = 20\n",
        "#    param['random_state'] = RANDOM_SEED\n",
        "#    param['logging_level'] = 'Silent'\n",
        "#    param['cat_features'] = cat_features\n",
        "    \n",
        "#    regressor = CatBoostRegressor(**param)\n",
        "\n",
        "#    regressor.fit(X_train.copy(), y_train.copy(),\n",
        "#                  eval_set=[(X_eval.copy(), y_eval.copy())],\n",
        "#                  early_stopping_rounds=EARLY_STOPPING_ROUND)\n",
        "#    loss = mean_absolute_percentage_error(y_valid, regressor.predict(X_valid.copy()))\n",
        "#    return loss"
      ],
      "metadata": {
        "id": "Bvb6AnUzOI9o"
      },
      "execution_count": null,
      "outputs": []
    },
    {
      "cell_type": "markdown",
      "source": [
        "###Обучение Optuna"
      ],
      "metadata": {
        "id": "8kFJ12lSWfFl"
      }
    },
    {
      "cell_type": "code",
      "source": [
        "#%%time\n",
        "#study = optuna.create_study(study_name=f'catboost-seed{rs}')\n",
        "#study.optimize(objective, n_trials=10000, n_jobs=-1, timeout=24000)"
      ],
      "metadata": {
        "id": "F7H5lc4fOI7W"
      },
      "execution_count": null,
      "outputs": []
    },
    {
      "cell_type": "code",
      "source": [
        "#study.best_value"
      ],
      "metadata": {
        "id": "jO8PV9OKOI5D"
      },
      "execution_count": null,
      "outputs": []
    },
    {
      "cell_type": "code",
      "source": [
        "#study.best_params"
      ],
      "metadata": {
        "id": "EDb5Qv2mOI2z"
      },
      "execution_count": null,
      "outputs": []
    },
    {
      "cell_type": "markdown",
      "source": [
        "##CatBoost"
      ],
      "metadata": {
        "id": "i-L0QI2rRNin"
      }
    },
    {
      "cell_type": "markdown",
      "source": [
        "###Пулы"
      ],
      "metadata": {
        "id": "Mwdk3rCahpEz"
      }
    },
    {
      "cell_type": "code",
      "source": [
        "train_data = Pool(data=df[X], label=df[y], cat_features=cat_features)\n",
        "test_data = Pool(data = df_test[X], cat_features= cat_features)"
      ],
      "metadata": {
        "id": "2emdeSEMhkLn"
      },
      "execution_count": null,
      "outputs": []
    },
    {
      "cell_type": "markdown",
      "source": [
        "###Параметры из Optuna в CatBoost"
      ],
      "metadata": {
        "id": "VyvNd3c9h65_"
      }
    },
    {
      "cell_type": "markdown",
      "source": [
        "'learning_rate': 0.018000000000000002, 'depth': 9, 'l2_leaf_reg': 1.0, 'min_child_samples': 16}. Best is trial 9 with value: 0.11905462733459295."
      ],
      "metadata": {
        "id": "iI_zsfDt5PGq"
      }
    },
    {
      "cell_type": "code",
      "source": [
        "params = {'eval_metric':'MAPE', # максимизация метрики\n",
        "          'loss_function': 'RMSE', # функция потерь\n",
        "          'random_seed': rs, # параметр рандома\n",
        "          'verbose': 1000, # вывод итераций (визуал) - каждую 1000\n",
        "          'iterations': 9999, # количество циклов обучения\n",
        "          'learning_rate': 0.018000000000000002, # скорость обучения\n",
        "          'early_stopping_rounds': 200,\n",
        "          'depth': 9,\n",
        "          'l2_leaf_reg': 1.0,\n",
        "          'min_child_samples': 16} # если 100 итераций ничего не улучшается = конец обучения"
      ],
      "metadata": {
        "id": "m7GTB0GSh9VD"
      },
      "execution_count": null,
      "outputs": []
    },
    {
      "cell_type": "markdown",
      "source": [
        "###Модель"
      ],
      "metadata": {
        "id": "n7ApcmsFkiC_"
      }
    },
    {
      "cell_type": "code",
      "source": [
        "model = CatBoostRegressor(**params)"
      ],
      "metadata": {
        "id": "k_M4cU-Adzj1"
      },
      "execution_count": null,
      "outputs": []
    },
    {
      "cell_type": "markdown",
      "source": [
        "###Обучаем"
      ],
      "metadata": {
        "id": "Q6RKm86zuH5t"
      }
    },
    {
      "cell_type": "code",
      "source": [
        "model.fit(train_data)"
      ],
      "metadata": {
        "colab": {
          "base_uri": "https://localhost:8080/"
        },
        "id": "ZdwXLGvzd9Bo",
        "outputId": "8fd398e7-97e9-448d-ef00-55d432b80267"
      },
      "execution_count": null,
      "outputs": [
        {
          "output_type": "stream",
          "name": "stdout",
          "text": [
            "0:\tlearn: 0.8673712\ttotal: 340ms\tremaining: 56m 43s\n",
            "1000:\tlearn: 0.1358553\ttotal: 5m 55s\tremaining: 53m 14s\n",
            "2000:\tlearn: 0.1231159\ttotal: 12m 3s\tremaining: 48m 10s\n",
            "3000:\tlearn: 0.1170481\ttotal: 18m 19s\tremaining: 42m 44s\n",
            "4000:\tlearn: 0.1130735\ttotal: 24m 48s\tremaining: 37m 11s\n",
            "5000:\tlearn: 0.1100462\ttotal: 31m 21s\tremaining: 31m 20s\n",
            "6000:\tlearn: 0.1078878\ttotal: 37m 56s\tremaining: 25m 16s\n",
            "7000:\tlearn: 0.1059619\ttotal: 44m 39s\tremaining: 19m 7s\n",
            "8000:\tlearn: 0.1043530\ttotal: 51m 22s\tremaining: 12m 49s\n",
            "9000:\tlearn: 0.1028942\ttotal: 58m 10s\tremaining: 6m 26s\n",
            "9998:\tlearn: 0.1015345\ttotal: 1h 5m 1s\tremaining: 0us\n"
          ]
        },
        {
          "output_type": "execute_result",
          "data": {
            "text/plain": [
              "<catboost.core.CatBoostRegressor at 0x14709c928f0>"
            ]
          },
          "metadata": {},
          "execution_count": 879
        }
      ]
    },
    {
      "cell_type": "markdown",
      "source": [
        "###Возвращаем все столбцы назад"
      ],
      "metadata": {
        "id": "Y18yKPfzuLy5"
      }
    },
    {
      "cell_type": "code",
      "source": [
        "df_test = pd.read_csv(r\"C:\\Users\\1\\Desktop\\Проект Kaggle/test.csv\") # данные для тестирования модели"
      ],
      "metadata": {
        "id": "e9khaun1tciE"
      },
      "execution_count": null,
      "outputs": []
    },
    {
      "cell_type": "markdown",
      "source": [
        "###Предсказываем"
      ],
      "metadata": {
        "id": "cUzQZEM8uQO_"
      }
    },
    {
      "cell_type": "code",
      "source": [
        "df_test['sellingprice'] = model.predict(test_data)"
      ],
      "metadata": {
        "id": "TgkaHPKotgRR"
      },
      "execution_count": null,
      "outputs": []
    },
    {
      "cell_type": "markdown",
      "source": [
        "#Оформляем результаты для Kaggle"
      ],
      "metadata": {
        "id": "9jyavoIFuS8c"
      }
    },
    {
      "cell_type": "code",
      "source": [
        "df_test = df_test[['vin','sellingprice']]"
      ],
      "metadata": {
        "id": "psFFwT8ftobI"
      },
      "execution_count": null,
      "outputs": []
    },
    {
      "cell_type": "code",
      "source": [
        "df_test.to_csv('predict_01.csv', index=False)"
      ],
      "metadata": {
        "id": "pw6NJt0jtu52"
      },
      "execution_count": null,
      "outputs": []
    },
    {
      "cell_type": "markdown",
      "source": [
        "#Общий вывод по проекту:"
      ],
      "metadata": {
        "id": "98-vDgcf9WZK"
      }
    },
    {
      "cell_type": "markdown",
      "source": [
        "В рамках проекта были проанализированы данные о проданных Б/У автомобилей. Выполнены следующие виды работ:\n",
        "1. Выявлена и удалена часть пропусков в df. Некоторые пропуски были заполнены. В рамках df_test пропуски были ТОЛЬКО заполнены, чтобы не уменьшать количество строк в соответствии с правилами проведения соревнования.\n",
        "2. Был создан вспомогательный столбец, отражающий количество лет, которое было автомобилю на момент продажи. Там, где количество этих лет было равно \"-1\", значения были заменены на 0. Можно связать факт отрицательного значения с тем, что дата выпуска автомобиля была взята из VIN номера. А так называемый \"модельный год\" выпуска автомобиля далеко не всегда совпадает с реальным. Об этом можно почитать [тут](https://files.stroyinf.ru/Index2/1/4293745/4293745318.htm) и [тут](https://zarulposle30.ru/v-chem-raznitsa-mezhdu-modelnym-godom-i-godom-vypuska-avtomobilya/)\n",
        "3. Все столбцы в df и df_test были приведены в соответствие типам, которые подходят для моделей машинного обучения\n",
        "4. Для определения оптимальных гиперпараметров был использован фреймворк Optuna. Он обучался на протяжении прмерно 13 часов (далее обучение было остановлено принудительно). Последние полученные лучшие гиперпараметры, определенные за время обучения были вписаны в гиперпараметры модели CatBoost.\n",
        "5. В ходе обучения, лучшие результаты метрик модель показала на 9999 итерации обучения. Лучшим результатом на этой итерации являлось значение метрики MAPE = 10,1.\n",
        "6. Модель выполнила предсказания на тестовом наборе данных, структура фрейма была приведена в соответствие с правилами соревнования и отправлена на площадку Kaggle.\n",
        "7. К сожалению, модель не смогла показать столь же хорошие результаты на незнакомых ей данных, набрав лучшее значение метрики MAPE = 20,1. Таким образом она стала ошибаться на 10% больше.\n",
        "8. Такое падение метрик скорее всего обуславливается тем, что модель столкнулась с переобучением и просто \"зазубрила\" тренировочные данные. В попытках сделать модель более \"гибкой\" или \"адаптивной\" к новым данным, вопреки рекомендованным гиперпараметрам Optuna, была уменьшена глубина деревьев и с помощью кросс-валидации определено оптимальное количество итераций обучения (999 итераций). Кроме этого принято решение немного больше обрезать тренировочные данные в рамках борьбы с выбросами (экстремальными значениями).\n",
        "9. Такие попытки привели только к ухудшению показателей: с 20,1 до 23,4\n",
        "10. В связи с этим принято решение оставить всё как было."
      ],
      "metadata": {
        "id": "p2rn4ddu9a8Y"
      }
    }
  ]
}